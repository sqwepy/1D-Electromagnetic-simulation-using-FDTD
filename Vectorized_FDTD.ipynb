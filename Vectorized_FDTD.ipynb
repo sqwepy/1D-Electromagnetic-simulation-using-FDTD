{
 "cells": [
  {
   "cell_type": "code",
   "execution_count": null,
   "id": "680cfb73",
   "metadata": {},
   "outputs": [],
   "source": [
    "%matplotlib inline\n",
    "import numpy as np\n",
    "import matplotlib.pyplot as plt\n",
    "from matplotlib.animation import FuncAnimation"
   ]
  },
  {
   "cell_type": "markdown",
   "id": "44beb218",
   "metadata": {},
   "source": [
    "# VACUUM"
   ]
  },
  {
   "cell_type": "code",
   "execution_count": null,
   "id": "1f4782ab",
   "metadata": {},
   "outputs": [],
   "source": [
    "#Constants\n",
    "\n",
    "eps0 = 8.8541878128e-12\n",
    "mu0 = 1.256637062e-6\n",
    "c = 1/np.sqrt(eps0*mu0)\n",
    "imp0 = np.sqrt(mu0/eps0)\n",
    "\n",
    "# values for other than vakuum, epsilon (eps) also can be an array of permativities in the y direction for every step, mu also can be so\n",
    "\n",
    "mu = mu0\n",
    "eps = eps0\n",
    "v = 1/np.sqrt(eps*mu)\n",
    "imp = np.sqrt(mu/eps)\n",
    "\n",
    "j_max = 500  #size of y\n",
    "n_max = 2000  #size of t\n",
    "j_source = 250 #space step of j_source\n",
    "\n",
    "E_x = np.zeros(j_max)\n",
    "H_z = np.zeros(j_max)\n",
    "\n",
    "#can be replaced with just E_x and H_z and is not important but or simplicity, it can be better do define it\n",
    "\n",
    "E_x_prev = np.zeros(j_max)\n",
    "H_z_prev = np.zeros(j_max)\n",
    "\n",
    "lambda_min = 350e-9  #minimum wavelength\n",
    "dx = lambda_min/20\n",
    "dt = dx/c"
   ]
  },
  {
   "cell_type": "code",
   "execution_count": null,
   "id": "a5cf498d",
   "metadata": {},
   "outputs": [],
   "source": [
    "#Defining source:\n",
    "\n",
    "def Source_Func(t):\n",
    "    tau = 30   # in time steps\n",
    "    t_0 = tau*3     # delay for source to work\n",
    "    lambda_0 = 550e-9  #defines the frequency of the source\n",
    "    w0 = 2*np.pi*c/lambda_0 \n",
    "    return np.exp(-(t-t_0)**2/tau**2)*np.sin(w0*t*dt)"
   ]
  },
  {
   "cell_type": "code",
   "execution_count": null,
   "id": "0bb04902",
   "metadata": {},
   "outputs": [],
   "source": [
    "\n",
    "#The loop, Simulating light in a vacuum\n",
    "\n",
    "for n in range(n_max):\n",
    "    #update magnetic field boundaries, if we want the wave to propagate off the screen, if we delete them, the wave will bounce (Mirror)\n",
    "    H_z[j_max-1] = H_z_prev[j_max-2]\n",
    "    #update magnetic field\n",
    "    \n",
    "    H_z[:j_max-1] = H_z_prev[:j_max-1] + dt/(dx*mu0) * (E_x[1:j_max]-E_x[:j_max-1])\n",
    "    H_z_prev[:] = H_z[:]\n",
    "        \n",
    "    #can add magnetic field source here, if only E field source and no H field or the other way around, then the EM wave will propagate in both directions\n",
    "    H_z[j_source-1] -= Source_Func(n)/imp0 # dividing by impedance is important for only one wave propagating\n",
    "    H_z_prev[j_source-1] = H_z[j_source-1]\n",
    "    \n",
    "    #update electric field boundaries, if we want the wave to propagate off the screen, if we delete them, the wave will bounce (Mirror)\n",
    "    E_x[0] = E_x_prev[1]\n",
    "    #update electric field\n",
    "    E_x[1:] = E_x_prev[1:] + dt/(dx*eps) * (H_z[1:]-H_z[0:j_max-1])\n",
    "    E_x_prev[:] = E_x[:]\n",
    "                \n",
    "    #can add Electric field source here, if only E field source and no H field or the other way around, then the EM wave will propagate in both directions\n",
    "    E_x[j_source] += Source_Func(n+1)\n",
    "    E_x_prev[j_source] = E_x[j_source]\n",
    "    \n",
    "    #plot at every 10th time step\n",
    "    if n%100 == 0:\n",
    "        plt.plot(E_x)\n",
    "        plt.ylim([-1,1])\n",
    "        plt.show()\n",
    "        plt.close()\n"
   ]
  },
  {
   "cell_type": "markdown",
   "id": "a49f767c",
   "metadata": {},
   "source": [
    "# THIN FILM"
   ]
  },
  {
   "cell_type": "code",
   "execution_count": null,
   "id": "57a74151",
   "metadata": {},
   "outputs": [],
   "source": [
    "#Constants\n",
    "\n",
    "eps0 = 8.8541878128e-12\n",
    "mu0 = 1.256637062e-6\n",
    "c = 1/np.sqrt(eps0*mu0)\n",
    "imp0 = np.sqrt(mu0/eps0)\n",
    "\n",
    "j_max = 500  #size of y\n",
    "n_max = 2000  #size of t\n",
    "j_source = 250 #space step of j_source\n",
    "\n",
    "# values for other than vakuum, epsilon (eps) also can be an array of permativities in the y direction for every step, mu also can be so\n",
    "\n",
    "mu = mu0\n",
    "eps = np.ones(j_max)*eps0\n",
    "eps[250:300] = 10*eps0\n",
    "v = 1/np.sqrt(eps*mu)\n",
    "imp = np.sqrt(mu/eps)\n",
    "\n",
    "material_prof = eps > eps0\n",
    "\n",
    "E_x = np.zeros(j_max)\n",
    "H_z = np.zeros(j_max)\n",
    "\n",
    "#can be replaced with just E_x and H_z and is not important but or simplicity, it can be better do define it\n",
    "\n",
    "E_x_prev = np.zeros(j_max)\n",
    "H_z_prev = np.zeros(j_max)\n",
    "\n",
    "lambda_min = 350e-9  #minimum wavelength\n",
    "dx = lambda_min/20\n",
    "dt = dx/c"
   ]
  },
  {
   "cell_type": "code",
   "execution_count": null,
   "id": "161fc722",
   "metadata": {},
   "outputs": [],
   "source": [
    "#Defining source:\n",
    "\n",
    "def Source_Func(t):\n",
    "    tau = 30   # in time steps\n",
    "    t_0 = tau*3     # delay for source to work\n",
    "    lambda_0 = 550e-9  #defines the frequency of the source\n",
    "    w0 = 2*np.pi*c/lambda_0 \n",
    "    return np.exp(-(t-t_0)**2/tau**2)*np.sin(w0*t*dt)"
   ]
  },
  {
   "cell_type": "code",
   "execution_count": null,
   "id": "009fa1e3",
   "metadata": {},
   "outputs": [],
   "source": [
    "#The loop, Simulating light in a vacuum with thin film\n",
    "\n",
    "for n in range(n_max):\n",
    "    #update magnetic field boundaries, if we want the wave to propagate off the screen, if we delete them, the wave will bounce (Mirror)\n",
    "    H_z[j_max-1] = H_z_prev[j_max-2]\n",
    "    #update magnetic field\n",
    "    for j in range(j_max-1):\n",
    "        H_z[:j_max-1] = H_z_prev[:j_max-1] + dt/(dx*mu0) * (E_x[1:j_max]-E_x[:j_max-1])\n",
    "    H_z_prev[:] = H_z[:]\n",
    "        \n",
    "    #can add magnetic field source here, if only E field source and no H field or the other way around, then the EM wave will propagate in both directions\n",
    "    H_z[j_source-1] -= Source_Func(n)/imp0 # dividing by impedance is important for only one wave propagating\n",
    "    H_z_prev[j_source-1] = H_z[j_source-1]\n",
    "    \n",
    "    #update electric field boundaries, if we want the wave to propagate off the screen, if we delete them, the wave will bounce (Mirror)\n",
    "    E_x[0] = E_x_prev[1]\n",
    "    #update electric field\n",
    "\n",
    "    E_x[1:] = E_x_prev[1:] + dt/(dx*eps[1:]) * (H_z[1:]-H_z[:j_max-1])\n",
    "    E_x_prev[:] = E_x[:]\n",
    "                \n",
    "    #can add Electric field source here, if only E field source and no H field or the other way around, then the EM wave will propagate in both directions\n",
    "    E_x[j_source] += Source_Func(n+1)\n",
    "    E_x_prev[j_source] = E_x[j_source]\n",
    "    \n",
    "    #plot at every 10th time step\n",
    "    if n%100 == 0:\n",
    "        plt.plot(E_x)\n",
    "        plt.plot(material_prof)\n",
    "        #plt.ylim([-1,1])\n",
    "        plt.show()\n",
    "        plt.close()"
   ]
  },
  {
   "cell_type": "code",
   "execution_count": null,
   "id": "3b6f5c9d",
   "metadata": {},
   "outputs": [],
   "source": []
  }
 ],
 "metadata": {
  "kernelspec": {
   "display_name": "Puanda",
   "language": "python",
   "name": "python3"
  },
  "language_info": {
   "codemirror_mode": {
    "name": "ipython",
    "version": 3
   },
   "file_extension": ".py",
   "mimetype": "text/x-python",
   "name": "python",
   "nbconvert_exporter": "python",
   "pygments_lexer": "ipython3",
   "version": "3.11.4"
  }
 },
 "nbformat": 4,
 "nbformat_minor": 5
}
